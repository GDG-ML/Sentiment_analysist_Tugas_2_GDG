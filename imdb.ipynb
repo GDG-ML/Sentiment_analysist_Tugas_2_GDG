{
  "cells": [
    {
      "cell_type": "code",
      "execution_count": null,
      "metadata": {
        "colab": {
          "base_uri": "https://localhost:8080/"
        },
        "id": "YCmIO6zhLHlc",
        "outputId": "0a766e53-1a75-48a1-bbe4-bb53b188a3f0"
      },
      "outputs": [],
      "source": [
        "import pandas as pd\n",
        "import numpy as np\n",
        "import matplotlib.pyplot as plt\n",
        "import seaborn as sns\n",
        "import tensorflow as tf\n",
        "from tensorflow.keras.preprocessing.text import Tokenizer\n",
        "from tensorflow.keras.preprocessing.sequence import pad_sequences\n",
        "from tensorflow.keras.callbacks import EarlyStopping\n",
        "from tensorflow.keras.models import Sequential\n",
        "from tensorflow.keras.layers import Embedding, LSTM, Dense, Dropout, Bidirectional\n",
        "from sklearn.model_selection import train_test_split\n",
        "from tensorflow.keras.regularizers import l2\n",
        "from sklearn.preprocessing import LabelEncoder\n",
        "import re\n",
        "import nltk\n",
        "nltk.download('all', quiet=True)\n",
        "import string\n",
        "from nltk.tokenize import word_tokenize\n",
        "from nltk.corpus import stopwords\n",
        "from nltk.stem import PorterStemmer"
      ]
    },
    {
      "cell_type": "code",
      "execution_count": null,
      "metadata": {
        "colab": {
          "base_uri": "https://localhost:8080/",
          "height": 206
        },
        "id": "uRnJI2VpLXPe",
        "outputId": "806ddd9e-60db-46bd-9b80-e99b0a7c436f"
      },
      "outputs": [],
      "source": [
        "np.random.seed(42)\n",
        "tf.random.set_seed(42)\n",
        "df=pd.read_csv('https://drive.google.com/uc?id=1tN44choQ1brQ2lpypuigBZMOzrDqhRMs')\n",
        "df.head()"
      ]
    },
    {
      "cell_type": "code",
      "execution_count": null,
      "metadata": {
        "colab": {
          "base_uri": "https://localhost:8080/"
        },
        "id": "eqbbSG23vo_y",
        "outputId": "eabe5f11-a8d8-45b9-82d1-b23a22849077"
      },
      "outputs": [],
      "source": [
        "df.info()"
      ]
    },
    {
      "cell_type": "code",
      "execution_count": null,
      "metadata": {
        "colab": {
          "base_uri": "https://localhost:8080/"
        },
        "id": "w0YuIfzrV_Dx",
        "outputId": "59964671-5f7a-4ab0-c152-6d899d5c3380"
      },
      "outputs": [],
      "source": [
        "df['sentiment'].unique()"
      ]
    },
    {
      "cell_type": "code",
      "execution_count": null,
      "metadata": {
        "colab": {
          "base_uri": "https://localhost:8080/",
          "height": 147
        },
        "id": "svkIk44JWhVe",
        "outputId": "849dab2d-82cb-4c07-e79c-64435e659f24"
      },
      "outputs": [],
      "source": [
        "df.isnull().sum()"
      ]
    },
    {
      "cell_type": "code",
      "execution_count": null,
      "metadata": {
        "colab": {
          "base_uri": "https://localhost:8080/"
        },
        "id": "tGm0CVlD0TqE",
        "outputId": "49be2637-e44d-4ef4-b965-8482b5a20e13"
      },
      "outputs": [],
      "source": [
        "df.drop_duplicates(inplace=True)\n",
        "df.duplicated().sum()"
      ]
    },
    {
      "cell_type": "code",
      "execution_count": null,
      "metadata": {
        "colab": {
          "base_uri": "https://localhost:8080/",
          "height": 175
        },
        "id": "AIP4qspY0g6T",
        "outputId": "25d1bd26-0689-4a30-88d2-640659afe79d"
      },
      "outputs": [],
      "source": [
        "df.describe()"
      ]
    },
    {
      "cell_type": "code",
      "execution_count": null,
      "metadata": {
        "id": "IRicemVZ0qSW"
      },
      "outputs": [],
      "source": [
        "stop_words = set(stopwords.words('english'))\n",
        "stemmer = PorterStemmer()"
      ]
    },
    {
      "cell_type": "code",
      "execution_count": null,
      "metadata": {
        "id": "pO7XE2Mf4Gdv"
      },
      "outputs": [],
      "source": [
        "unwanted_chars = [\n",
        "    '\\x08', '\\x10', '!', '\"', '#', '$', '%', '&', \"'\", '(', ')', '*', '+', ',', '-', '.', '/',\n",
        "    '0', '1', '2', '3', '4', '5', '6', '7', '8', '9', ':', ';', '<', '=', '>', '?', '@', '[', '\\\\',\n",
        "    ']', '^', '_', '`', '{', '|', '}', '~', '\\x80', '\\x84', '\\x8d', '\\x8e', '\\x91', '\\x95', '\\x96',\n",
        "    '\\x97', '\\x9a', '\\x9e', '¡', '¢', '£', '¤', '¦', '§', '¨', '©', 'ª', '«', '\\xad', '®', '°', '³',\n",
        "    '´', '·', 'º', '»', '½', '¾', '¿', 'À', 'Á', 'Â', 'Ã', 'Ä', 'Å', 'Æ', 'Ç', 'È', 'É', 'Ê', 'Ï',\n",
        "    'Ð', 'Ó', 'Õ', 'Ö', 'Ø', 'Ü', 'Þ', 'ß', 'à', 'á', 'â', 'ã', 'ä', 'å', 'æ', 'ç', 'è', 'é', 'ê',\n",
        "    'ë', 'ì', 'í', 'î', 'ï', 'ð', 'ñ', 'ò', 'ó', 'ô', 'õ', 'ö', 'ø', 'ù', 'ú', 'û', 'ü', 'ý', 'ğ',\n",
        "    'ı', 'ō', 'Ż', 'א', 'ג', 'ו', 'י', 'כ', 'ל', 'מ', 'ן', 'ר', '–', '‘', '’', '“', '”', '…', '″',\n",
        "    '₤', '▼', '★', '、', '\\uf0b7', '，'\n",
        "]\n",
        "\n",
        "unwanted_pattern = '[' + re.escape(''.join(unwanted_chars)) + ']'\n",
        "\n",
        "def preprocess_text(text):\n",
        "    text = re.sub(r'<.*?>', '', text)\n",
        "    text = re.sub(unwanted_pattern, '', text)\n",
        "    text = re.sub(r'\\s+', ' ', text).strip()\n",
        "    text = text.lower()\n",
        "    tokens = text.split()\n",
        "    filtered = [stemmer.stem(w) for w in tokens]\n",
        "    return ' '.join(filtered)\n",
        "\n",
        "df['review'] = df['review'].apply(preprocess_text)"
      ]
    },
    {
      "cell_type": "code",
      "execution_count": null,
      "metadata": {
        "id": "XHgCUbPbdRgF"
      },
      "outputs": [],
      "source": [
        "df.review = df.review.apply(word_tokenize)
        "df['review'] = df['review'].apply(lambda x: [word for word in x if word not in stop_words])\n",
        "df['review'] = df['review'].apply(lambda x: [stemmer.stem(word) for word in x])"
      ]
    },
    {
      "cell_type": "code",
      "execution_count": null,
      "metadata": {
        "colab": {
          "base_uri": "https://localhost:8080/",
          "height": 206
        },
        "id": "rZto7mLQdbkJ",
        "outputId": "c3e89c95-9cab-45f4-de3d-614e74fa3900"
      },
      "outputs": [],
      "source": [
        "df.head()"
      ]
    },
    {
      "cell_type": "code",
      "execution_count": null,
      "metadata": {
        "colab": {
          "base_uri": "https://localhost:8080/",
          "height": 206
        },
        "id": "45ZKEoXN6Do-",
        "outputId": "16af2dab-e83d-4571-9c3c-a9017282222a"
      },
      "outputs": [],
      "source": [
        "label_encoder = LabelEncoder()\n",
        "df['sentiment'] = label_encoder.fit_transform(df['sentiment'])\n",
        "df.head()"
      ]
    },
    {
      "cell_type": "code",
      "execution_count": null,
      "metadata": {
        "colab": {
          "base_uri": "https://localhost:8080/",
          "height": 178
        },
        "id": "dzJVio-ugdg-",
        "outputId": "ae5acd2d-c773-48ec-df5b-8707597eb9d1"
      },
      "outputs": [],
      "source": [
        "df['sentiment'].value_counts()"
      ]
    },
    {
      "cell_type": "code",
      "execution_count": null,
      "metadata": {
        "id": "wbeEMJ1n6Jzz"
      },
      "outputs": [],
      "source": [
        "X = df['review']\n",
        "y = df['sentiment']\n",
        "X_train, X_test, y_train, y_test = train_test_split(X, y, test_size=0.2, random_state=42)"
      ]
    },
    {
      "cell_type": "code",
      "execution_count": null,
      "metadata": {
        "id": "a9A5H1YviImg"
      },
      "outputs": [],
      "source": [
        "tokenizer = Tokenizer(num_words=10000, oov_token='<OOV>')\n",
        "tokenizer.fit_on_texts(X_train)\n",
        "\n",
        "X_train_seq = tokenizer.texts_to_sequences(X_train)\n",
        "X_test_seq = tokenizer.texts_to_sequences(X_test)"
      ]
    },
    {
      "cell_type": "code",
      "execution_count": null,
      "metadata": {
        "id": "kETH2XjR6W54"
      },
      "outputs": [],
      "source": [
        "max_len = 200\n",
        "X_train_pad = pad_sequences(X_train_seq, maxlen=max_len, padding='post')\n",
        "X_test_pad = pad_sequences(X_test_seq, maxlen=max_len, padding='post')"
      ]
    },
    {
      "cell_type": "code",
      "execution_count": null,
      "metadata": {
        "colab": {
          "base_uri": "https://localhost:8080/",
          "height": 321
        },
        "id": "fK-1nKxF7FK1",
        "outputId": "ce90799a-6de1-436c-ad1f-a058dd006230"
      },
      "outputs": [],
      "source": [
        "model = Sequential([\n",
        "    Embedding(input_dim=10000, output_dim=64),\n",
        "    Bidirectional(LSTM(64, return_sequences=False, dropout=0.3, recurrent_dropout=0.3)),\n",
        "    Dropout(0.5),\n",
        "\n",
        "    Dense(64, activation='relu'),\n",
        "    Dropout(0.5),\n",
        "\n",
        "    Dense(1, activation='sigmoid')\n",
        "])\n",
        "\n",
        "model.build(input_shape=(None, max_len))\n",
        "\n",
        "model.compile(optimizer='adam',\n",
        "              loss='binary_crossentropy',\n",
        "              metrics=['accuracy'])\n",
        "\n",
        "model.summary()"
      ]
    },
    {
      "cell_type": "code",
      "execution_count": null,
      "metadata": {
        "colab": {
          "base_uri": "https://localhost:8080/"
        },
        "id": "4aCZGHh16xcl",
        "outputId": "24b89b4d-8148-4ff1-cb6c-713fadd2592d"
      },
      "outputs": [],
      "source": [
        "early_stop = EarlyStopping(monitor='val_loss',\n",
        "                           patience=3,\n",
        "                           restore_best_weights=True)\n",
        "\n",
        "history = model.fit(X_train_pad, y_train,\n",
        "                    epochs=30,\n",
        "                    batch_size=64,\n",
        "                    validation_data=(X_test_pad, y_test),\n",
        "                    callbacks=[early_stop])"
      ]
    },
    {
      "cell_type": "code",
      "execution_count": null,
      "metadata": {
        "colab": {
          "base_uri": "https://localhost:8080/"
        },
        "id": "QuHQz6nO_BtA",
        "outputId": "ff86277f-116c-4f6c-b2ba-35b78ef43977"
      },
      "outputs": [],
      "source": [
        "test_loss, test_acc = model.evaluate(X_test_pad, y_test, verbose=0)\n",
        "print(f\"Accuracy: {test_acc:.4f}\")"
      ]
    },
    {
      "cell_type": "code",
      "execution_count": null,
      "metadata": {
        "colab": {
          "base_uri": "https://localhost:8080/",
          "height": 472
        },
        "id": "LQD9M0uP7bqp",
        "outputId": "ae17fe91-065a-4218-acc4-5d1efd21d79e"
      },
      "outputs": [],
      "source": [
        "plt.plot(history.history['accuracy'], label='Train Accuracy')\n",
        "plt.plot(history.history['val_accuracy'], label='Validation Accuracy')\n",
        "plt.legend()\n",
        "plt.title('Accuracy Over Epochs')\n",
        "plt.xlabel('Epochs')\n",
        "plt.ylabel('Accuracy')\n",
        "plt.show()"
      ]
    },
    {
      "cell_type": "code",
      "execution_count": null,
      "metadata": {
        "colab": {
          "base_uri": "https://localhost:8080/"
        },
        "id": "xMmLXgXJCfuA",
        "outputId": "78e941bc-2bd5-4c27-abb0-edc308695428"
      },
      "outputs": [],
      "source": [
        "test_sentences = [\n",
        "    \"The movie was incredibly fun and enjoyable!\",\n",
        "    \"I loved every moment of the film. It was beautifully made.\",\n",
        "    \"The storyline was captivating and the actors did a great job.\",\n",
        "    \"Such an inspiring and heartwarming movie. Highly recommended!\",\n",
        "    \"I really hate the plot because it was boring."\",\n",
        "    \"The acting was terrible and the story was predictable.\",\n",
        "    \"I don't recommend this film to anyone. Totally disappointing.\",\n",
        "    \"It was one of the worst movies I've ever seen.\"\n",
        "]\n",
        "\n",
        "test_clean = [preprocess_text(t) for t in test_sentences]\n",
        "test_seq = tokenizer.texts_to_sequences(test_clean)\n",
        "test_pad = pad_sequences(test_seq, maxlen=max_len)\n",
        "\n",
        "predictions = model.predict(test_pad)\n",
        "\n",
        "for i, pred in enumerate(predictions):\n",
        "    sentiment = \"Positive\" if pred >= 0.5 else \"Negative\"\n",
        "    print(f\"{test_sentences[i]} --> {sentiment} (Confidence: {pred[0]:.2f})\")"
      ]
    }
  ],
  "metadata": {
    "accelerator": "GPU",
    "colab": {
      "gpuType": "T4",
      "provenance": []
    },
    "kernelspec": {
      "display_name": "Python 3",
      "name": "python3"
    },
    "language_info": {
      "name": "python"
    }
  },
  "nbformat": 4,
  "nbformat_minor": 0
}
